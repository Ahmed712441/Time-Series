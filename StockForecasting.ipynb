{
  "nbformat": 4,
  "nbformat_minor": 0,
  "metadata": {
    "colab": {
      "name": "StockForecasting.ipynb",
      "provenance": [],
      "collapsed_sections": []
    },
    "kernelspec": {
      "name": "python3",
      "display_name": "Python 3"
    },
    "language_info": {
      "name": "python"
    },
    "accelerator": "GPU"
  },
  "cells": [
    {
      "cell_type": "code",
      "metadata": {
        "id": "t1qUw6UsCBxC"
      },
      "source": [
        "# ! mkdir ~/.kaggle\n",
        "# ! cp kaggle.json ~/.kaggle/\n",
        "# ! chmod 600 ~/.kaggle/kaggle.json\n",
        "# ! kaggle datasets download tarunpaparaju/apple-aapl-historical-stock-data"
      ],
      "execution_count": 1,
      "outputs": []
    },
    {
      "cell_type": "code",
      "metadata": {
        "id": "nCrE61G5CcBL"
      },
      "source": [
        "# ! unzip apple-aapl-historical-stock-data.zip"
      ],
      "execution_count": 2,
      "outputs": []
    },
    {
      "cell_type": "code",
      "metadata": {
        "colab": {
          "base_uri": "https://localhost:8080/",
          "height": 203
        },
        "id": "h_O5_2BdCmuM",
        "outputId": "50a3af33-0663-499a-81f8-b62a5e2e5f37"
      },
      "source": [
        "import pandas as pd\n",
        "df = pd.read_csv('/content/HistoricalQuotes.csv')\n",
        "df.head()"
      ],
      "execution_count": 3,
      "outputs": [
        {
          "output_type": "execute_result",
          "data": {
            "text/html": [
              "<div>\n",
              "<style scoped>\n",
              "    .dataframe tbody tr th:only-of-type {\n",
              "        vertical-align: middle;\n",
              "    }\n",
              "\n",
              "    .dataframe tbody tr th {\n",
              "        vertical-align: top;\n",
              "    }\n",
              "\n",
              "    .dataframe thead th {\n",
              "        text-align: right;\n",
              "    }\n",
              "</style>\n",
              "<table border=\"1\" class=\"dataframe\">\n",
              "  <thead>\n",
              "    <tr style=\"text-align: right;\">\n",
              "      <th></th>\n",
              "      <th>Date</th>\n",
              "      <th>Close/Last</th>\n",
              "      <th>Volume</th>\n",
              "      <th>Open</th>\n",
              "      <th>High</th>\n",
              "      <th>Low</th>\n",
              "    </tr>\n",
              "  </thead>\n",
              "  <tbody>\n",
              "    <tr>\n",
              "      <th>0</th>\n",
              "      <td>02/28/2020</td>\n",
              "      <td>$273.36</td>\n",
              "      <td>106721200</td>\n",
              "      <td>$257.26</td>\n",
              "      <td>$278.41</td>\n",
              "      <td>$256.37</td>\n",
              "    </tr>\n",
              "    <tr>\n",
              "      <th>1</th>\n",
              "      <td>02/27/2020</td>\n",
              "      <td>$273.52</td>\n",
              "      <td>80151380</td>\n",
              "      <td>$281.1</td>\n",
              "      <td>$286</td>\n",
              "      <td>$272.96</td>\n",
              "    </tr>\n",
              "    <tr>\n",
              "      <th>2</th>\n",
              "      <td>02/26/2020</td>\n",
              "      <td>$292.65</td>\n",
              "      <td>49678430</td>\n",
              "      <td>$286.53</td>\n",
              "      <td>$297.88</td>\n",
              "      <td>$286.5</td>\n",
              "    </tr>\n",
              "    <tr>\n",
              "      <th>3</th>\n",
              "      <td>02/25/2020</td>\n",
              "      <td>$288.08</td>\n",
              "      <td>57668360</td>\n",
              "      <td>$300.95</td>\n",
              "      <td>$302.53</td>\n",
              "      <td>$286.13</td>\n",
              "    </tr>\n",
              "    <tr>\n",
              "      <th>4</th>\n",
              "      <td>02/24/2020</td>\n",
              "      <td>$298.18</td>\n",
              "      <td>55548830</td>\n",
              "      <td>$297.26</td>\n",
              "      <td>$304.18</td>\n",
              "      <td>$289.23</td>\n",
              "    </tr>\n",
              "  </tbody>\n",
              "</table>\n",
              "</div>"
            ],
            "text/plain": [
              "         Date  Close/Last     Volume      Open      High       Low\n",
              "0  02/28/2020     $273.36  106721200   $257.26   $278.41   $256.37\n",
              "1  02/27/2020     $273.52   80151380    $281.1      $286   $272.96\n",
              "2  02/26/2020     $292.65   49678430   $286.53   $297.88    $286.5\n",
              "3  02/25/2020     $288.08   57668360   $300.95   $302.53   $286.13\n",
              "4  02/24/2020     $298.18   55548830   $297.26   $304.18   $289.23"
            ]
          },
          "metadata": {
            "tags": []
          },
          "execution_count": 3
        }
      ]
    },
    {
      "cell_type": "code",
      "metadata": {
        "colab": {
          "base_uri": "https://localhost:8080/"
        },
        "id": "2T706c5mCwc4",
        "outputId": "0f292a53-de97-4774-fa48-7622fa099c01"
      },
      "source": [
        "df.info()"
      ],
      "execution_count": 4,
      "outputs": [
        {
          "output_type": "stream",
          "text": [
            "<class 'pandas.core.frame.DataFrame'>\n",
            "RangeIndex: 2518 entries, 0 to 2517\n",
            "Data columns (total 6 columns):\n",
            " #   Column       Non-Null Count  Dtype \n",
            "---  ------       --------------  ----- \n",
            " 0   Date         2518 non-null   object\n",
            " 1    Close/Last  2518 non-null   object\n",
            " 2    Volume      2518 non-null   int64 \n",
            " 3    Open        2518 non-null   object\n",
            " 4    High        2518 non-null   object\n",
            " 5    Low         2518 non-null   object\n",
            "dtypes: int64(1), object(5)\n",
            "memory usage: 118.2+ KB\n"
          ],
          "name": "stdout"
        }
      ]
    },
    {
      "cell_type": "code",
      "metadata": {
        "colab": {
          "base_uri": "https://localhost:8080/",
          "height": 203
        },
        "id": "CuU85F67CzQz",
        "outputId": "aec040ae-63b0-4294-c05d-7eaaef74fcfc"
      },
      "source": [
        "df['Close'] = df[' Close/Last'].apply(lambda x: float(x[2:]))\t\n",
        "df.head()"
      ],
      "execution_count": 5,
      "outputs": [
        {
          "output_type": "execute_result",
          "data": {
            "text/html": [
              "<div>\n",
              "<style scoped>\n",
              "    .dataframe tbody tr th:only-of-type {\n",
              "        vertical-align: middle;\n",
              "    }\n",
              "\n",
              "    .dataframe tbody tr th {\n",
              "        vertical-align: top;\n",
              "    }\n",
              "\n",
              "    .dataframe thead th {\n",
              "        text-align: right;\n",
              "    }\n",
              "</style>\n",
              "<table border=\"1\" class=\"dataframe\">\n",
              "  <thead>\n",
              "    <tr style=\"text-align: right;\">\n",
              "      <th></th>\n",
              "      <th>Date</th>\n",
              "      <th>Close/Last</th>\n",
              "      <th>Volume</th>\n",
              "      <th>Open</th>\n",
              "      <th>High</th>\n",
              "      <th>Low</th>\n",
              "      <th>Close</th>\n",
              "    </tr>\n",
              "  </thead>\n",
              "  <tbody>\n",
              "    <tr>\n",
              "      <th>0</th>\n",
              "      <td>02/28/2020</td>\n",
              "      <td>$273.36</td>\n",
              "      <td>106721200</td>\n",
              "      <td>$257.26</td>\n",
              "      <td>$278.41</td>\n",
              "      <td>$256.37</td>\n",
              "      <td>273.36</td>\n",
              "    </tr>\n",
              "    <tr>\n",
              "      <th>1</th>\n",
              "      <td>02/27/2020</td>\n",
              "      <td>$273.52</td>\n",
              "      <td>80151380</td>\n",
              "      <td>$281.1</td>\n",
              "      <td>$286</td>\n",
              "      <td>$272.96</td>\n",
              "      <td>273.52</td>\n",
              "    </tr>\n",
              "    <tr>\n",
              "      <th>2</th>\n",
              "      <td>02/26/2020</td>\n",
              "      <td>$292.65</td>\n",
              "      <td>49678430</td>\n",
              "      <td>$286.53</td>\n",
              "      <td>$297.88</td>\n",
              "      <td>$286.5</td>\n",
              "      <td>292.65</td>\n",
              "    </tr>\n",
              "    <tr>\n",
              "      <th>3</th>\n",
              "      <td>02/25/2020</td>\n",
              "      <td>$288.08</td>\n",
              "      <td>57668360</td>\n",
              "      <td>$300.95</td>\n",
              "      <td>$302.53</td>\n",
              "      <td>$286.13</td>\n",
              "      <td>288.08</td>\n",
              "    </tr>\n",
              "    <tr>\n",
              "      <th>4</th>\n",
              "      <td>02/24/2020</td>\n",
              "      <td>$298.18</td>\n",
              "      <td>55548830</td>\n",
              "      <td>$297.26</td>\n",
              "      <td>$304.18</td>\n",
              "      <td>$289.23</td>\n",
              "      <td>298.18</td>\n",
              "    </tr>\n",
              "  </tbody>\n",
              "</table>\n",
              "</div>"
            ],
            "text/plain": [
              "         Date  Close/Last     Volume      Open      High       Low   Close\n",
              "0  02/28/2020     $273.36  106721200   $257.26   $278.41   $256.37  273.36\n",
              "1  02/27/2020     $273.52   80151380    $281.1      $286   $272.96  273.52\n",
              "2  02/26/2020     $292.65   49678430   $286.53   $297.88    $286.5  292.65\n",
              "3  02/25/2020     $288.08   57668360   $300.95   $302.53   $286.13  288.08\n",
              "4  02/24/2020     $298.18   55548830   $297.26   $304.18   $289.23  298.18"
            ]
          },
          "metadata": {
            "tags": []
          },
          "execution_count": 5
        }
      ]
    },
    {
      "cell_type": "code",
      "metadata": {
        "colab": {
          "base_uri": "https://localhost:8080/",
          "height": 35
        },
        "id": "kGrd78z_DJaJ",
        "outputId": "f1e7ea8c-7b5b-435b-81fd-a761fa4295a3"
      },
      "source": [
        "df[' Close/Last'][0]"
      ],
      "execution_count": 6,
      "outputs": [
        {
          "output_type": "execute_result",
          "data": {
            "application/vnd.google.colaboratory.intrinsic+json": {
              "type": "string"
            },
            "text/plain": [
              "' $273.36'"
            ]
          },
          "metadata": {
            "tags": []
          },
          "execution_count": 6
        }
      ]
    },
    {
      "cell_type": "code",
      "metadata": {
        "id": "84nfeiJhDZ08"
      },
      "source": [
        "df.reset_index(inplace=True)"
      ],
      "execution_count": 7,
      "outputs": []
    },
    {
      "cell_type": "code",
      "metadata": {
        "colab": {
          "base_uri": "https://localhost:8080/",
          "height": 203
        },
        "id": "DFctLWxyDo26",
        "outputId": "75661e11-39c3-4ab0-b0b5-ead714f602b6"
      },
      "source": [
        "df.head()"
      ],
      "execution_count": 8,
      "outputs": [
        {
          "output_type": "execute_result",
          "data": {
            "text/html": [
              "<div>\n",
              "<style scoped>\n",
              "    .dataframe tbody tr th:only-of-type {\n",
              "        vertical-align: middle;\n",
              "    }\n",
              "\n",
              "    .dataframe tbody tr th {\n",
              "        vertical-align: top;\n",
              "    }\n",
              "\n",
              "    .dataframe thead th {\n",
              "        text-align: right;\n",
              "    }\n",
              "</style>\n",
              "<table border=\"1\" class=\"dataframe\">\n",
              "  <thead>\n",
              "    <tr style=\"text-align: right;\">\n",
              "      <th></th>\n",
              "      <th>index</th>\n",
              "      <th>Date</th>\n",
              "      <th>Close/Last</th>\n",
              "      <th>Volume</th>\n",
              "      <th>Open</th>\n",
              "      <th>High</th>\n",
              "      <th>Low</th>\n",
              "      <th>Close</th>\n",
              "    </tr>\n",
              "  </thead>\n",
              "  <tbody>\n",
              "    <tr>\n",
              "      <th>0</th>\n",
              "      <td>0</td>\n",
              "      <td>02/28/2020</td>\n",
              "      <td>$273.36</td>\n",
              "      <td>106721200</td>\n",
              "      <td>$257.26</td>\n",
              "      <td>$278.41</td>\n",
              "      <td>$256.37</td>\n",
              "      <td>273.36</td>\n",
              "    </tr>\n",
              "    <tr>\n",
              "      <th>1</th>\n",
              "      <td>1</td>\n",
              "      <td>02/27/2020</td>\n",
              "      <td>$273.52</td>\n",
              "      <td>80151380</td>\n",
              "      <td>$281.1</td>\n",
              "      <td>$286</td>\n",
              "      <td>$272.96</td>\n",
              "      <td>273.52</td>\n",
              "    </tr>\n",
              "    <tr>\n",
              "      <th>2</th>\n",
              "      <td>2</td>\n",
              "      <td>02/26/2020</td>\n",
              "      <td>$292.65</td>\n",
              "      <td>49678430</td>\n",
              "      <td>$286.53</td>\n",
              "      <td>$297.88</td>\n",
              "      <td>$286.5</td>\n",
              "      <td>292.65</td>\n",
              "    </tr>\n",
              "    <tr>\n",
              "      <th>3</th>\n",
              "      <td>3</td>\n",
              "      <td>02/25/2020</td>\n",
              "      <td>$288.08</td>\n",
              "      <td>57668360</td>\n",
              "      <td>$300.95</td>\n",
              "      <td>$302.53</td>\n",
              "      <td>$286.13</td>\n",
              "      <td>288.08</td>\n",
              "    </tr>\n",
              "    <tr>\n",
              "      <th>4</th>\n",
              "      <td>4</td>\n",
              "      <td>02/24/2020</td>\n",
              "      <td>$298.18</td>\n",
              "      <td>55548830</td>\n",
              "      <td>$297.26</td>\n",
              "      <td>$304.18</td>\n",
              "      <td>$289.23</td>\n",
              "      <td>298.18</td>\n",
              "    </tr>\n",
              "  </tbody>\n",
              "</table>\n",
              "</div>"
            ],
            "text/plain": [
              "   index        Date  Close/Last  ...      High       Low   Close\n",
              "0      0  02/28/2020     $273.36  ...   $278.41   $256.37  273.36\n",
              "1      1  02/27/2020     $273.52  ...      $286   $272.96  273.52\n",
              "2      2  02/26/2020     $292.65  ...   $297.88    $286.5  292.65\n",
              "3      3  02/25/2020     $288.08  ...   $302.53   $286.13  288.08\n",
              "4      4  02/24/2020     $298.18  ...   $304.18   $289.23  298.18\n",
              "\n",
              "[5 rows x 8 columns]"
            ]
          },
          "metadata": {
            "tags": []
          },
          "execution_count": 8
        }
      ]
    },
    {
      "cell_type": "code",
      "metadata": {
        "id": "F_pztBSSa4ni"
      },
      "source": [
        "from sklearn.preprocessing import MinMaxScaler\n",
        "import numpy as np\n",
        "scaler=MinMaxScaler(feature_range=(0,1))\n",
        "df['Close'] = scaler.fit_transform(np.array(df['Close']).reshape(-1,1))"
      ],
      "execution_count": 9,
      "outputs": []
    },
    {
      "cell_type": "code",
      "metadata": {
        "id": "MtBoC6lQEehg"
      },
      "source": [
        "train_ratio = 0.65\n",
        "train_size = int(train_ratio*df.shape[0])\n",
        "test_size = df.shape[0] - train_size\n",
        "train = df['Close'][0:train_size]\n",
        "test = df['Close'][train_size:df.shape[0]]"
      ],
      "execution_count": 10,
      "outputs": []
    },
    {
      "cell_type": "code",
      "metadata": {
        "colab": {
          "base_uri": "https://localhost:8080/"
        },
        "id": "Mj7d3AVzFWeG",
        "outputId": "b92b37fc-ee49-4474-a575-c3b5e7f9db99"
      },
      "source": [
        "train.shape , test.shape , train_size , test_size"
      ],
      "execution_count": 11,
      "outputs": [
        {
          "output_type": "execute_result",
          "data": {
            "text/plain": [
              "((1636,), (882,), 1636, 882)"
            ]
          },
          "metadata": {
            "tags": []
          },
          "execution_count": 11
        }
      ]
    },
    {
      "cell_type": "code",
      "metadata": {
        "colab": {
          "base_uri": "https://localhost:8080/"
        },
        "id": "KtmUex0DFe5o",
        "outputId": "53998a3f-1de7-494f-cab2-0850e5c0960d"
      },
      "source": [
        "train[0:3]"
      ],
      "execution_count": 12,
      "outputs": [
        {
          "output_type": "execute_result",
          "data": {
            "text/plain": [
              "0    0.818943\n",
              "1    0.819481\n",
              "2    0.883813\n",
              "Name: Close, dtype: float64"
            ]
          },
          "metadata": {
            "tags": []
          },
          "execution_count": 12
        }
      ]
    },
    {
      "cell_type": "code",
      "metadata": {
        "colab": {
          "base_uri": "https://localhost:8080/"
        },
        "id": "9lkQHDO5FmO2",
        "outputId": "6c5abd3f-730e-4140-e4b8-1671526a6845"
      },
      "source": [
        "test[0:3]"
      ],
      "execution_count": 13,
      "outputs": [
        {
          "output_type": "execute_result",
          "data": {
            "text/plain": [
              "1636    0.135498\n",
              "1637    0.134390\n",
              "1638    0.141298\n",
              "Name: Close, dtype: float64"
            ]
          },
          "metadata": {
            "tags": []
          },
          "execution_count": 13
        }
      ]
    },
    {
      "cell_type": "code",
      "metadata": {
        "id": "etMTKT5ZIuns",
        "colab": {
          "base_uri": "https://localhost:8080/"
        },
        "outputId": "fe38b4a4-23c8-416a-da7c-d06d816e15d7"
      },
      "source": [
        "test = test.reset_index()\n",
        "test = test['Close']\n",
        "test"
      ],
      "execution_count": 14,
      "outputs": [
        {
          "output_type": "execute_result",
          "data": {
            "text/plain": [
              "0      0.135498\n",
              "1      0.134390\n",
              "2      0.141298\n",
              "3      0.140362\n",
              "4      0.141294\n",
              "         ...   \n",
              "877    0.004852\n",
              "878    0.000894\n",
              "879    0.000231\n",
              "880    0.000000\n",
              "881    0.000067\n",
              "Name: Close, Length: 882, dtype: float64"
            ]
          },
          "metadata": {
            "tags": []
          },
          "execution_count": 14
        }
      ]
    },
    {
      "cell_type": "code",
      "metadata": {
        "id": "PAwYqvHyFpWl"
      },
      "source": [
        "import numpy as np\n",
        "def create_dataset(data,Timestamp=1):\n",
        "  x = []\n",
        "  y = []\n",
        "  for i in range(len(data)-Timestamp-1):\n",
        "    x.append(data[i:i+Timestamp])\n",
        "    y.append(data[i+Timestamp])\n",
        "  return np.array(x),np.array(y)"
      ],
      "execution_count": 15,
      "outputs": []
    },
    {
      "cell_type": "code",
      "metadata": {
        "id": "Cbrj5qwGHZCF"
      },
      "source": [
        "X_train , y_train = create_dataset(train,100)\n",
        "X_test , y_test = create_dataset(test,100)"
      ],
      "execution_count": 16,
      "outputs": []
    },
    {
      "cell_type": "code",
      "metadata": {
        "colab": {
          "base_uri": "https://localhost:8080/"
        },
        "id": "hdAawC6zHpEM",
        "outputId": "91e5ab19-557a-4afa-f4ff-cd1d826df9b3"
      },
      "source": [
        "X_train.shape , y_train.shape , X_test.shape ,y_test.shape"
      ],
      "execution_count": 17,
      "outputs": [
        {
          "output_type": "execute_result",
          "data": {
            "text/plain": [
              "((1535, 100), (1535,), (781, 100), (781,))"
            ]
          },
          "metadata": {
            "tags": []
          },
          "execution_count": 17
        }
      ]
    },
    {
      "cell_type": "code",
      "metadata": {
        "id": "60sO8ZspLw6l"
      },
      "source": [
        "# from sklearn.preprocessing import MinMaxScaler\n",
        "# scaler=MinMaxScaler(feature_range=(0,1))\n",
        "# scaler.fit_transform(np.array(df['Close']).reshape(-1,1))\n",
        "# X_train , y_train , X_test ,y_test = scaler.fit_transform(np.array(X_train)) , np.array(y_train).reshape(-1,1),\\\n",
        "#   scaler.fit_transform(np.array(X_test)) , scaler.fit_transform(np.array(y_test).reshape(-1,1))"
      ],
      "execution_count": 18,
      "outputs": []
    },
    {
      "cell_type": "code",
      "metadata": {
        "colab": {
          "base_uri": "https://localhost:8080/"
        },
        "id": "GKO78LWHNRaf",
        "outputId": "fe5075e6-f66d-401d-bdc3-c0ada6eece33"
      },
      "source": [
        "X_train[0:3]"
      ],
      "execution_count": 19,
      "outputs": [
        {
          "output_type": "execute_result",
          "data": {
            "text/plain": [
              "array([[0.81894262, 0.81948068, 0.88381255, 0.86844419, 0.90240927,\n",
              "        0.95241527, 0.97679614, 0.9879609 , 0.9724244 , 0.99243352,\n",
              "        0.99216449, 1.        , 0.97447575, 0.98099974, 0.97588816,\n",
              "        0.99330787, 0.98066345, 0.97191996, 0.93765223, 0.94051068,\n",
              "        0.98880161, 0.99038217, 0.96801903, 0.93862747, 0.97010401,\n",
              "        0.97319786, 0.96805265, 0.9642526 , 0.97151642, 0.95977997,\n",
              "        0.94666475, 0.951171  , 0.96556412, 0.94326824, 0.94091423,\n",
              "        0.91925729, 0.90311547, 0.90785713, 0.89988711, 0.90970671,\n",
              "        0.88717543, 0.8800125 , 0.87422835, 0.87459826, 0.85563163,\n",
              "        0.85472365, 0.83938892, 0.84133939, 0.84039779, 0.84265092,\n",
              "        0.84080133, 0.82496218, 0.81255315, 0.81023277, 0.80253178,\n",
              "        0.79728569, 0.810031  , 0.79277943, 0.77986598, 0.77216498,\n",
              "        0.78800414, 0.79839544, 0.80037953, 0.78844132, 0.7954361 ,\n",
              "        0.78000049, 0.78077395, 0.78474215, 0.79516707, 0.797891  ,\n",
              "        0.79338475, 0.78289257, 0.78904663, 0.78060581, 0.7814129 ,\n",
              "        0.77448537, 0.77209773, 0.76473302, 0.76436311, 0.76560737,\n",
              "        0.75995774, 0.73621581, 0.71771998, 0.71782087, 0.73719105,\n",
              "        0.72888474, 0.7187961 , 0.71745095, 0.70662248, 0.70847207,\n",
              "        0.69468426, 0.69088421, 0.68782399, 0.69101873, 0.69286831,\n",
              "        0.69401169, 0.67343087, 0.66314046, 0.65429609, 0.66324135],\n",
              "       [0.81948068, 0.88381255, 0.86844419, 0.90240927, 0.95241527,\n",
              "        0.97679614, 0.9879609 , 0.9724244 , 0.99243352, 0.99216449,\n",
              "        1.        , 0.97447575, 0.98099974, 0.97588816, 0.99330787,\n",
              "        0.98066345, 0.97191996, 0.93765223, 0.94051068, 0.98880161,\n",
              "        0.99038217, 0.96801903, 0.93862747, 0.97010401, 0.97319786,\n",
              "        0.96805265, 0.9642526 , 0.97151642, 0.95977997, 0.94666475,\n",
              "        0.951171  , 0.96556412, 0.94326824, 0.94091423, 0.91925729,\n",
              "        0.90311547, 0.90785713, 0.89988711, 0.90970671, 0.88717543,\n",
              "        0.8800125 , 0.87422835, 0.87459826, 0.85563163, 0.85472365,\n",
              "        0.83938892, 0.84133939, 0.84039779, 0.84265092, 0.84080133,\n",
              "        0.82496218, 0.81255315, 0.81023277, 0.80253178, 0.79728569,\n",
              "        0.810031  , 0.79277943, 0.77986598, 0.77216498, 0.78800414,\n",
              "        0.79839544, 0.80037953, 0.78844132, 0.7954361 , 0.78000049,\n",
              "        0.78077395, 0.78474215, 0.79516707, 0.797891  , 0.79338475,\n",
              "        0.78289257, 0.78904663, 0.78060581, 0.7814129 , 0.77448537,\n",
              "        0.77209773, 0.76473302, 0.76436311, 0.76560737, 0.75995774,\n",
              "        0.73621581, 0.71771998, 0.71782087, 0.73719105, 0.72888474,\n",
              "        0.7187961 , 0.71745095, 0.70662248, 0.70847207, 0.69468426,\n",
              "        0.69088421, 0.68782399, 0.69101873, 0.69286831, 0.69401169,\n",
              "        0.67343087, 0.66314046, 0.65429609, 0.66324135, 0.66307321],\n",
              "       [0.88381255, 0.86844419, 0.90240927, 0.95241527, 0.97679614,\n",
              "        0.9879609 , 0.9724244 , 0.99243352, 0.99216449, 1.        ,\n",
              "        0.97447575, 0.98099974, 0.97588816, 0.99330787, 0.98066345,\n",
              "        0.97191996, 0.93765223, 0.94051068, 0.98880161, 0.99038217,\n",
              "        0.96801903, 0.93862747, 0.97010401, 0.97319786, 0.96805265,\n",
              "        0.9642526 , 0.97151642, 0.95977997, 0.94666475, 0.951171  ,\n",
              "        0.96556412, 0.94326824, 0.94091423, 0.91925729, 0.90311547,\n",
              "        0.90785713, 0.89988711, 0.90970671, 0.88717543, 0.8800125 ,\n",
              "        0.87422835, 0.87459826, 0.85563163, 0.85472365, 0.83938892,\n",
              "        0.84133939, 0.84039779, 0.84265092, 0.84080133, 0.82496218,\n",
              "        0.81255315, 0.81023277, 0.80253178, 0.79728569, 0.810031  ,\n",
              "        0.79277943, 0.77986598, 0.77216498, 0.78800414, 0.79839544,\n",
              "        0.80037953, 0.78844132, 0.7954361 , 0.78000049, 0.78077395,\n",
              "        0.78474215, 0.79516707, 0.797891  , 0.79338475, 0.78289257,\n",
              "        0.78904663, 0.78060581, 0.7814129 , 0.77448537, 0.77209773,\n",
              "        0.76473302, 0.76436311, 0.76560737, 0.75995774, 0.73621581,\n",
              "        0.71771998, 0.71782087, 0.73719105, 0.72888474, 0.7187961 ,\n",
              "        0.71745095, 0.70662248, 0.70847207, 0.69468426, 0.69088421,\n",
              "        0.68782399, 0.69101873, 0.69286831, 0.69401169, 0.67343087,\n",
              "        0.66314046, 0.65429609, 0.66324135, 0.66307321, 0.64225699]])"
            ]
          },
          "metadata": {
            "tags": []
          },
          "execution_count": 19
        }
      ]
    },
    {
      "cell_type": "code",
      "metadata": {
        "colab": {
          "base_uri": "https://localhost:8080/"
        },
        "id": "YUJG0ZNYNfKV",
        "outputId": "ecd3d4d4-b6f1-430f-97c1-7bdc19a302d4"
      },
      "source": [
        "X_test[0:3]"
      ],
      "execution_count": 20,
      "outputs": [
        {
          "output_type": "execute_result",
          "data": {
            "text/plain": [
              "array([[0.13549811, 0.13439038, 0.1412984 , 0.14036184, 0.14129369,\n",
              "        0.14100549, 0.14038572, 0.1435902 , 0.14099103, 0.13886771,\n",
              "        0.1391512 , 0.13486118, 0.1241911 , 0.11798894, 0.12114063,\n",
              "        0.12304772, 0.12317753, 0.12519526, 0.12187542, 0.11905834,\n",
              "        0.11706651, 0.11744618, 0.1147895 , 0.1115228 , 0.11032629,\n",
              "        0.11129211, 0.10095361, 0.10447017, 0.10381677, 0.1070875 ,\n",
              "        0.10639172, 0.10633657, 0.10501294, 0.10456635, 0.10493997,\n",
              "        0.10178962, 0.10256779, 0.09906065, 0.10019932, 0.10182325,\n",
              "        0.1007135 , 0.09626004, 0.09016348, 0.08884254, 0.09090331,\n",
              "        0.09309423, 0.09305085, 0.09831611, 0.09991986, 0.1028802 ,\n",
              "        0.10709322, 0.10720386, 0.10626696, 0.10910859, 0.10729499,\n",
              "        0.10989416, 0.11051394, 0.11191693, 0.11030712, 0.11350186,\n",
              "        0.11551958, 0.1161972 , 0.11572371, 0.11661016, 0.11342518,\n",
              "        0.11173836, 0.11352102, 0.11207499, 0.11169767, 0.11088386,\n",
              "        0.11245466, 0.10780918, 0.10844241, 0.10569056, 0.11290158,\n",
              "        0.11812817, 0.11727803, 0.1191034 , 0.12249991, 0.12001071,\n",
              "        0.12099637, 0.11584141, 0.11369892, 0.11070596, 0.11238269,\n",
              "        0.10630059, 0.10009608, 0.0958565 , 0.09445451, 0.09477567,\n",
              "        0.09119151, 0.08728116, 0.08801124, 0.09317561, 0.10443654,\n",
              "        0.10136691, 0.1061469 , 0.10832302, 0.10897643, 0.104792  ],\n",
              "       [0.13439038, 0.1412984 , 0.14036184, 0.14129369, 0.14100549,\n",
              "        0.14038572, 0.1435902 , 0.14099103, 0.13886771, 0.1391512 ,\n",
              "        0.13486118, 0.1241911 , 0.11798894, 0.12114063, 0.12304772,\n",
              "        0.12317753, 0.12519526, 0.12187542, 0.11905834, 0.11706651,\n",
              "        0.11744618, 0.1147895 , 0.1115228 , 0.11032629, 0.11129211,\n",
              "        0.10095361, 0.10447017, 0.10381677, 0.1070875 , 0.10639172,\n",
              "        0.10633657, 0.10501294, 0.10456635, 0.10493997, 0.10178962,\n",
              "        0.10256779, 0.09906065, 0.10019932, 0.10182325, 0.1007135 ,\n",
              "        0.09626004, 0.09016348, 0.08884254, 0.09090331, 0.09309423,\n",
              "        0.09305085, 0.09831611, 0.09991986, 0.1028802 , 0.10709322,\n",
              "        0.10720386, 0.10626696, 0.10910859, 0.10729499, 0.10989416,\n",
              "        0.11051394, 0.11191693, 0.11030712, 0.11350186, 0.11551958,\n",
              "        0.1161972 , 0.11572371, 0.11661016, 0.11342518, 0.11173836,\n",
              "        0.11352102, 0.11207499, 0.11169767, 0.11088386, 0.11245466,\n",
              "        0.10780918, 0.10844241, 0.10569056, 0.11290158, 0.11812817,\n",
              "        0.11727803, 0.1191034 , 0.12249991, 0.12001071, 0.12099637,\n",
              "        0.11584141, 0.11369892, 0.11070596, 0.11238269, 0.10630059,\n",
              "        0.10009608, 0.0958565 , 0.09445451, 0.09477567, 0.09119151,\n",
              "        0.08728116, 0.08801124, 0.09317561, 0.10443654, 0.10136691,\n",
              "        0.1061469 , 0.10832302, 0.10897643, 0.104792  , 0.10442208],\n",
              "       [0.1412984 , 0.14036184, 0.14129369, 0.14100549, 0.14038572,\n",
              "        0.1435902 , 0.14099103, 0.13886771, 0.1391512 , 0.13486118,\n",
              "        0.1241911 , 0.11798894, 0.12114063, 0.12304772, 0.12317753,\n",
              "        0.12519526, 0.12187542, 0.11905834, 0.11706651, 0.11744618,\n",
              "        0.1147895 , 0.1115228 , 0.11032629, 0.11129211, 0.10095361,\n",
              "        0.10447017, 0.10381677, 0.1070875 , 0.10639172, 0.10633657,\n",
              "        0.10501294, 0.10456635, 0.10493997, 0.10178962, 0.10256779,\n",
              "        0.09906065, 0.10019932, 0.10182325, 0.1007135 , 0.09626004,\n",
              "        0.09016348, 0.08884254, 0.09090331, 0.09309423, 0.09305085,\n",
              "        0.09831611, 0.09991986, 0.1028802 , 0.10709322, 0.10720386,\n",
              "        0.10626696, 0.10910859, 0.10729499, 0.10989416, 0.11051394,\n",
              "        0.11191693, 0.11030712, 0.11350186, 0.11551958, 0.1161972 ,\n",
              "        0.11572371, 0.11661016, 0.11342518, 0.11173836, 0.11352102,\n",
              "        0.11207499, 0.11169767, 0.11088386, 0.11245466, 0.10780918,\n",
              "        0.10844241, 0.10569056, 0.11290158, 0.11812817, 0.11727803,\n",
              "        0.1191034 , 0.12249991, 0.12001071, 0.12099637, 0.11584141,\n",
              "        0.11369892, 0.11070596, 0.11238269, 0.10630059, 0.10009608,\n",
              "        0.0958565 , 0.09445451, 0.09477567, 0.09119151, 0.08728116,\n",
              "        0.08801124, 0.09317561, 0.10443654, 0.10136691, 0.1061469 ,\n",
              "        0.10832302, 0.10897643, 0.104792  , 0.10442208, 0.10297605]])"
            ]
          },
          "metadata": {
            "tags": []
          },
          "execution_count": 20
        }
      ]
    },
    {
      "cell_type": "code",
      "metadata": {
        "colab": {
          "base_uri": "https://localhost:8080/"
        },
        "id": "LEOoA4TvNk4I",
        "outputId": "ffa23046-07e0-4659-fbdf-be3fc6649dcc"
      },
      "source": [
        "y_train[0:3]"
      ],
      "execution_count": 21,
      "outputs": [
        {
          "output_type": "execute_result",
          "data": {
            "text/plain": [
              "array([0.66307321, 0.64225699, 0.63600204])"
            ]
          },
          "metadata": {
            "tags": []
          },
          "execution_count": 21
        }
      ]
    },
    {
      "cell_type": "code",
      "metadata": {
        "colab": {
          "base_uri": "https://localhost:8080/"
        },
        "id": "bH4LDNURNyJ7",
        "outputId": "f56ec45e-2ba5-4999-c557-dc586f7e3bd8"
      },
      "source": [
        "X_train.shape"
      ],
      "execution_count": 22,
      "outputs": [
        {
          "output_type": "execute_result",
          "data": {
            "text/plain": [
              "(1535, 100)"
            ]
          },
          "metadata": {
            "tags": []
          },
          "execution_count": 22
        }
      ]
    },
    {
      "cell_type": "code",
      "metadata": {
        "colab": {
          "base_uri": "https://localhost:8080/"
        },
        "id": "i8kg6eNTN3fR",
        "outputId": "81dcaa70-5db7-4983-caf3-caa3bd44b4a1"
      },
      "source": [
        "y_train.shape"
      ],
      "execution_count": 23,
      "outputs": [
        {
          "output_type": "execute_result",
          "data": {
            "text/plain": [
              "(1535,)"
            ]
          },
          "metadata": {
            "tags": []
          },
          "execution_count": 23
        }
      ]
    },
    {
      "cell_type": "code",
      "metadata": {
        "colab": {
          "base_uri": "https://localhost:8080/"
        },
        "id": "O_5fsLeYN96_",
        "outputId": "c88566c7-4d38-4815-b386-4e39bbef5b3f"
      },
      "source": [
        "X_train.reshape([1,1535,100])"
      ],
      "execution_count": 24,
      "outputs": [
        {
          "output_type": "execute_result",
          "data": {
            "text/plain": [
              "array([[[0.81894262, 0.81948068, 0.88381255, ..., 0.66314046,\n",
              "         0.65429609, 0.66324135],\n",
              "        [0.81948068, 0.88381255, 0.86844419, ..., 0.65429609,\n",
              "         0.66324135, 0.66307321],\n",
              "        [0.88381255, 0.86844419, 0.90240927, ..., 0.66324135,\n",
              "         0.66307321, 0.64225699],\n",
              "        ...,\n",
              "        [0.1429943 , 0.16413235, 0.16200432, ..., 0.14283591,\n",
              "         0.13901669, 0.13759923],\n",
              "        [0.16413235, 0.16200432, 0.16686132, ..., 0.13901669,\n",
              "         0.13759923, 0.13924301],\n",
              "        [0.16200432, 0.16686132, 0.16461761, ..., 0.13759923,\n",
              "         0.13924301, 0.13438533]]])"
            ]
          },
          "metadata": {
            "tags": []
          },
          "execution_count": 24
        }
      ]
    },
    {
      "cell_type": "code",
      "metadata": {
        "id": "RzWTPs1fKIc6"
      },
      "source": [
        "from tensorflow.keras.models import Sequential\n",
        "from tensorflow.keras.layers import Dense\n",
        "from tensorflow.keras.layers import LSTM\n",
        "model=Sequential()\n",
        "model.add(LSTM(50,return_sequences=True,input_shape=(100,1)))\n",
        "model.add(LSTM(50,return_sequences=True))\n",
        "model.add(LSTM(50))\n",
        "model.add(Dense(1))\n",
        "model.compile(loss='mean_squared_error',optimizer='adam')"
      ],
      "execution_count": 25,
      "outputs": []
    },
    {
      "cell_type": "code",
      "metadata": {
        "colab": {
          "base_uri": "https://localhost:8080/"
        },
        "id": "8jNZQ2abP0Bd",
        "outputId": "60ffc94f-3023-42cc-d5f6-f6b8cce77e6a"
      },
      "source": [
        "model.summary()"
      ],
      "execution_count": 26,
      "outputs": [
        {
          "output_type": "stream",
          "text": [
            "Model: \"sequential\"\n",
            "_________________________________________________________________\n",
            "Layer (type)                 Output Shape              Param #   \n",
            "=================================================================\n",
            "lstm (LSTM)                  (None, 100, 50)           10400     \n",
            "_________________________________________________________________\n",
            "lstm_1 (LSTM)                (None, 100, 50)           20200     \n",
            "_________________________________________________________________\n",
            "lstm_2 (LSTM)                (None, 50)                20200     \n",
            "_________________________________________________________________\n",
            "dense (Dense)                (None, 1)                 51        \n",
            "=================================================================\n",
            "Total params: 50,851\n",
            "Trainable params: 50,851\n",
            "Non-trainable params: 0\n",
            "_________________________________________________________________\n"
          ],
          "name": "stdout"
        }
      ]
    },
    {
      "cell_type": "code",
      "metadata": {
        "id": "CRVClX6rOtvM"
      },
      "source": [
        "X_test = X_test.reshape([X_test.shape[0],X_test.shape[1],1])\n",
        "X_train = X_train.reshape([X_train.shape[0],X_train.shape[1],1])\n",
        "       "
      ],
      "execution_count": 27,
      "outputs": []
    },
    {
      "cell_type": "code",
      "metadata": {
        "id": "g8q61ebbRyyJ"
      },
      "source": [
        "y_test = y_test.reshape([-1])\n",
        "y_train = y_train.reshape([-1])"
      ],
      "execution_count": 28,
      "outputs": []
    },
    {
      "cell_type": "code",
      "metadata": {
        "colab": {
          "base_uri": "https://localhost:8080/"
        },
        "id": "lWxI_TM9R1UT",
        "outputId": "6ba3d784-07d3-4e05-dadf-ffa729f653b8"
      },
      "source": [
        "X_train.shape , X_test.shape ,y_train.shape,y_test.shape"
      ],
      "execution_count": 29,
      "outputs": [
        {
          "output_type": "execute_result",
          "data": {
            "text/plain": [
              "((1535, 100, 1), (781, 100, 1), (1535,), (781,))"
            ]
          },
          "metadata": {
            "tags": []
          },
          "execution_count": 29
        }
      ]
    },
    {
      "cell_type": "code",
      "metadata": {
        "id": "KmQTyZMKSPuo"
      },
      "source": [
        "X_train,X_test,y_train,y_test = np.array(X_train),np.array(X_test),\\\n",
        "    np.array(y_train),np.array(y_test)"
      ],
      "execution_count": 30,
      "outputs": []
    },
    {
      "cell_type": "code",
      "metadata": {
        "colab": {
          "base_uri": "https://localhost:8080/"
        },
        "id": "wwW9kED8SDQA",
        "outputId": "a6e5fab6-12a8-4465-e9cb-5bb0f101c634"
      },
      "source": [
        "model.fit(x=X_train,y=y_train,validation_data=(X_test,y_test),epochs=100,batch_size=64,verbose=1)"
      ],
      "execution_count": 31,
      "outputs": [
        {
          "output_type": "stream",
          "text": [
            "Epoch 1/100\n",
            "24/24 [==============================] - 6s 62ms/step - loss: 0.0196 - val_loss: 0.0121\n",
            "Epoch 2/100\n",
            "24/24 [==============================] - 0s 16ms/step - loss: 0.0020 - val_loss: 0.0011\n",
            "Epoch 3/100\n",
            "24/24 [==============================] - 0s 17ms/step - loss: 5.2024e-04 - val_loss: 1.9706e-04\n",
            "Epoch 4/100\n",
            "24/24 [==============================] - 0s 16ms/step - loss: 4.9517e-04 - val_loss: 2.5739e-04\n",
            "Epoch 5/100\n",
            "24/24 [==============================] - 0s 16ms/step - loss: 4.6007e-04 - val_loss: 2.6409e-04\n",
            "Epoch 6/100\n",
            "24/24 [==============================] - 0s 17ms/step - loss: 4.5015e-04 - val_loss: 2.0406e-04\n",
            "Epoch 7/100\n",
            "24/24 [==============================] - 0s 16ms/step - loss: 4.3191e-04 - val_loss: 2.0315e-04\n",
            "Epoch 8/100\n",
            "24/24 [==============================] - 0s 16ms/step - loss: 4.1021e-04 - val_loss: 2.2575e-04\n",
            "Epoch 9/100\n",
            "24/24 [==============================] - 0s 16ms/step - loss: 4.1575e-04 - val_loss: 1.5176e-04\n",
            "Epoch 10/100\n",
            "24/24 [==============================] - 0s 17ms/step - loss: 3.8080e-04 - val_loss: 1.8685e-04\n",
            "Epoch 11/100\n",
            "24/24 [==============================] - 0s 16ms/step - loss: 4.1496e-04 - val_loss: 1.8166e-04\n",
            "Epoch 12/100\n",
            "24/24 [==============================] - 0s 16ms/step - loss: 3.6014e-04 - val_loss: 1.0198e-04\n",
            "Epoch 13/100\n",
            "24/24 [==============================] - 0s 17ms/step - loss: 3.4230e-04 - val_loss: 1.0105e-04\n",
            "Epoch 14/100\n",
            "24/24 [==============================] - 0s 17ms/step - loss: 3.0830e-04 - val_loss: 8.4079e-05\n",
            "Epoch 15/100\n",
            "24/24 [==============================] - 0s 17ms/step - loss: 3.1195e-04 - val_loss: 8.1916e-05\n",
            "Epoch 16/100\n",
            "24/24 [==============================] - 0s 16ms/step - loss: 2.9054e-04 - val_loss: 7.9170e-05\n",
            "Epoch 17/100\n",
            "24/24 [==============================] - 0s 17ms/step - loss: 2.9203e-04 - val_loss: 7.9123e-05\n",
            "Epoch 18/100\n",
            "24/24 [==============================] - 0s 17ms/step - loss: 3.0943e-04 - val_loss: 8.3014e-05\n",
            "Epoch 19/100\n",
            "24/24 [==============================] - 0s 17ms/step - loss: 3.3827e-04 - val_loss: 8.0550e-05\n",
            "Epoch 20/100\n",
            "24/24 [==============================] - 0s 17ms/step - loss: 3.7131e-04 - val_loss: 1.0474e-04\n",
            "Epoch 21/100\n",
            "24/24 [==============================] - 0s 17ms/step - loss: 3.2016e-04 - val_loss: 8.7652e-05\n",
            "Epoch 22/100\n",
            "24/24 [==============================] - 0s 17ms/step - loss: 2.6651e-04 - val_loss: 7.7146e-05\n",
            "Epoch 23/100\n",
            "24/24 [==============================] - 0s 17ms/step - loss: 2.6472e-04 - val_loss: 7.3305e-05\n",
            "Epoch 24/100\n",
            "24/24 [==============================] - 0s 17ms/step - loss: 2.6035e-04 - val_loss: 7.2622e-05\n",
            "Epoch 25/100\n",
            "24/24 [==============================] - 0s 17ms/step - loss: 2.4936e-04 - val_loss: 7.2597e-05\n",
            "Epoch 26/100\n",
            "24/24 [==============================] - 0s 17ms/step - loss: 2.4608e-04 - val_loss: 7.2978e-05\n",
            "Epoch 27/100\n",
            "24/24 [==============================] - 0s 17ms/step - loss: 2.5775e-04 - val_loss: 7.2581e-05\n",
            "Epoch 28/100\n",
            "24/24 [==============================] - 0s 17ms/step - loss: 2.5020e-04 - val_loss: 7.5900e-05\n",
            "Epoch 29/100\n",
            "24/24 [==============================] - 0s 16ms/step - loss: 2.3842e-04 - val_loss: 6.8778e-05\n",
            "Epoch 30/100\n",
            "24/24 [==============================] - 0s 17ms/step - loss: 2.6031e-04 - val_loss: 7.2243e-05\n",
            "Epoch 31/100\n",
            "24/24 [==============================] - 0s 16ms/step - loss: 2.4357e-04 - val_loss: 7.2181e-05\n",
            "Epoch 32/100\n",
            "24/24 [==============================] - 0s 17ms/step - loss: 2.5845e-04 - val_loss: 7.4978e-05\n",
            "Epoch 33/100\n",
            "24/24 [==============================] - 0s 17ms/step - loss: 2.3681e-04 - val_loss: 9.8645e-05\n",
            "Epoch 34/100\n",
            "24/24 [==============================] - 0s 17ms/step - loss: 2.5460e-04 - val_loss: 6.5825e-05\n",
            "Epoch 35/100\n",
            "24/24 [==============================] - 0s 16ms/step - loss: 2.3263e-04 - val_loss: 6.6260e-05\n",
            "Epoch 36/100\n",
            "24/24 [==============================] - 0s 16ms/step - loss: 2.1476e-04 - val_loss: 7.5241e-05\n",
            "Epoch 37/100\n",
            "24/24 [==============================] - 0s 19ms/step - loss: 2.1069e-04 - val_loss: 6.5626e-05\n",
            "Epoch 38/100\n",
            "24/24 [==============================] - 0s 20ms/step - loss: 2.1967e-04 - val_loss: 7.7449e-05\n",
            "Epoch 39/100\n",
            "24/24 [==============================] - 0s 18ms/step - loss: 2.2821e-04 - val_loss: 7.0678e-05\n",
            "Epoch 40/100\n",
            "24/24 [==============================] - 0s 17ms/step - loss: 2.0928e-04 - val_loss: 6.3193e-05\n",
            "Epoch 41/100\n",
            "24/24 [==============================] - 0s 17ms/step - loss: 2.0739e-04 - val_loss: 6.5045e-05\n",
            "Epoch 42/100\n",
            "24/24 [==============================] - 0s 16ms/step - loss: 2.6805e-04 - val_loss: 9.9659e-05\n",
            "Epoch 43/100\n",
            "24/24 [==============================] - 0s 16ms/step - loss: 2.0345e-04 - val_loss: 6.5243e-05\n",
            "Epoch 44/100\n",
            "24/24 [==============================] - 0s 16ms/step - loss: 2.3480e-04 - val_loss: 6.7043e-05\n",
            "Epoch 45/100\n",
            "24/24 [==============================] - 0s 17ms/step - loss: 2.0330e-04 - val_loss: 6.3237e-05\n",
            "Epoch 46/100\n",
            "24/24 [==============================] - 0s 16ms/step - loss: 1.9815e-04 - val_loss: 6.8732e-05\n",
            "Epoch 47/100\n",
            "24/24 [==============================] - 0s 16ms/step - loss: 2.0733e-04 - val_loss: 6.9562e-05\n",
            "Epoch 48/100\n",
            "24/24 [==============================] - 0s 16ms/step - loss: 2.1323e-04 - val_loss: 7.5598e-05\n",
            "Epoch 49/100\n",
            "24/24 [==============================] - 0s 16ms/step - loss: 2.3539e-04 - val_loss: 5.8350e-05\n",
            "Epoch 50/100\n",
            "24/24 [==============================] - 0s 16ms/step - loss: 2.6202e-04 - val_loss: 8.9982e-05\n",
            "Epoch 51/100\n",
            "24/24 [==============================] - 0s 16ms/step - loss: 2.6212e-04 - val_loss: 1.0144e-04\n",
            "Epoch 52/100\n",
            "24/24 [==============================] - 0s 16ms/step - loss: 1.9541e-04 - val_loss: 5.8132e-05\n",
            "Epoch 53/100\n",
            "24/24 [==============================] - 0s 16ms/step - loss: 1.8305e-04 - val_loss: 5.8610e-05\n",
            "Epoch 54/100\n",
            "24/24 [==============================] - 0s 16ms/step - loss: 1.7404e-04 - val_loss: 5.9268e-05\n",
            "Epoch 55/100\n",
            "24/24 [==============================] - 0s 16ms/step - loss: 1.8793e-04 - val_loss: 6.3005e-05\n",
            "Epoch 56/100\n",
            "24/24 [==============================] - 0s 16ms/step - loss: 1.7913e-04 - val_loss: 5.7236e-05\n",
            "Epoch 57/100\n",
            "24/24 [==============================] - 0s 17ms/step - loss: 1.6593e-04 - val_loss: 5.5925e-05\n",
            "Epoch 58/100\n",
            "24/24 [==============================] - 0s 17ms/step - loss: 1.7017e-04 - val_loss: 5.5260e-05\n",
            "Epoch 59/100\n",
            "24/24 [==============================] - 0s 17ms/step - loss: 1.6642e-04 - val_loss: 5.5535e-05\n",
            "Epoch 60/100\n",
            "24/24 [==============================] - 0s 16ms/step - loss: 1.7886e-04 - val_loss: 5.6133e-05\n",
            "Epoch 61/100\n",
            "24/24 [==============================] - 0s 17ms/step - loss: 1.7301e-04 - val_loss: 6.0412e-05\n",
            "Epoch 62/100\n",
            "24/24 [==============================] - 0s 16ms/step - loss: 1.7973e-04 - val_loss: 5.6052e-05\n",
            "Epoch 63/100\n",
            "24/24 [==============================] - 0s 17ms/step - loss: 2.0531e-04 - val_loss: 5.5976e-05\n",
            "Epoch 64/100\n",
            "24/24 [==============================] - 0s 16ms/step - loss: 1.7719e-04 - val_loss: 5.8509e-05\n",
            "Epoch 65/100\n",
            "24/24 [==============================] - 0s 16ms/step - loss: 1.5027e-04 - val_loss: 5.6868e-05\n",
            "Epoch 66/100\n",
            "24/24 [==============================] - 0s 17ms/step - loss: 1.6302e-04 - val_loss: 7.9045e-05\n",
            "Epoch 67/100\n",
            "24/24 [==============================] - 0s 16ms/step - loss: 1.5058e-04 - val_loss: 6.0285e-05\n",
            "Epoch 68/100\n",
            "24/24 [==============================] - 0s 16ms/step - loss: 1.5097e-04 - val_loss: 5.6343e-05\n",
            "Epoch 69/100\n",
            "24/24 [==============================] - 0s 16ms/step - loss: 1.4565e-04 - val_loss: 5.0367e-05\n",
            "Epoch 70/100\n",
            "24/24 [==============================] - 0s 16ms/step - loss: 1.6389e-04 - val_loss: 7.4442e-05\n",
            "Epoch 71/100\n",
            "24/24 [==============================] - 0s 17ms/step - loss: 1.4820e-04 - val_loss: 5.3109e-05\n",
            "Epoch 72/100\n",
            "24/24 [==============================] - 0s 16ms/step - loss: 1.6196e-04 - val_loss: 6.8343e-05\n",
            "Epoch 73/100\n",
            "24/24 [==============================] - 0s 16ms/step - loss: 1.5291e-04 - val_loss: 5.1689e-05\n",
            "Epoch 74/100\n",
            "24/24 [==============================] - 0s 17ms/step - loss: 1.4647e-04 - val_loss: 4.7386e-05\n",
            "Epoch 75/100\n",
            "24/24 [==============================] - 0s 16ms/step - loss: 1.5508e-04 - val_loss: 4.9688e-05\n",
            "Epoch 76/100\n",
            "24/24 [==============================] - 0s 16ms/step - loss: 1.7313e-04 - val_loss: 5.5995e-05\n",
            "Epoch 77/100\n",
            "24/24 [==============================] - 0s 17ms/step - loss: 1.4054e-04 - val_loss: 4.8422e-05\n",
            "Epoch 78/100\n",
            "24/24 [==============================] - 0s 17ms/step - loss: 1.3208e-04 - val_loss: 4.9044e-05\n",
            "Epoch 79/100\n",
            "24/24 [==============================] - 0s 16ms/step - loss: 1.3326e-04 - val_loss: 4.7278e-05\n",
            "Epoch 80/100\n",
            "24/24 [==============================] - 0s 16ms/step - loss: 1.4764e-04 - val_loss: 7.8893e-05\n",
            "Epoch 81/100\n",
            "24/24 [==============================] - 0s 17ms/step - loss: 1.8016e-04 - val_loss: 5.1788e-05\n",
            "Epoch 82/100\n",
            "24/24 [==============================] - 0s 16ms/step - loss: 1.6941e-04 - val_loss: 5.2004e-05\n",
            "Epoch 83/100\n",
            "24/24 [==============================] - 0s 16ms/step - loss: 1.3046e-04 - val_loss: 4.7754e-05\n",
            "Epoch 84/100\n",
            "24/24 [==============================] - 0s 16ms/step - loss: 1.2837e-04 - val_loss: 4.7733e-05\n",
            "Epoch 85/100\n",
            "24/24 [==============================] - 0s 16ms/step - loss: 1.2556e-04 - val_loss: 4.3823e-05\n",
            "Epoch 86/100\n",
            "24/24 [==============================] - 0s 17ms/step - loss: 1.5652e-04 - val_loss: 5.1138e-05\n",
            "Epoch 87/100\n",
            "24/24 [==============================] - 0s 16ms/step - loss: 1.2970e-04 - val_loss: 5.1454e-05\n",
            "Epoch 88/100\n",
            "24/24 [==============================] - 0s 16ms/step - loss: 1.4636e-04 - val_loss: 4.7477e-05\n",
            "Epoch 89/100\n",
            "24/24 [==============================] - 0s 16ms/step - loss: 1.8668e-04 - val_loss: 5.4164e-05\n",
            "Epoch 90/100\n",
            "24/24 [==============================] - 0s 19ms/step - loss: 1.3960e-04 - val_loss: 4.6800e-05\n",
            "Epoch 91/100\n",
            "24/24 [==============================] - 0s 20ms/step - loss: 1.2117e-04 - val_loss: 5.4924e-05\n",
            "Epoch 92/100\n",
            "24/24 [==============================] - 0s 19ms/step - loss: 1.4913e-04 - val_loss: 4.7381e-05\n",
            "Epoch 93/100\n",
            "24/24 [==============================] - 0s 19ms/step - loss: 1.3451e-04 - val_loss: 5.0043e-05\n",
            "Epoch 94/100\n",
            "24/24 [==============================] - 0s 16ms/step - loss: 1.1580e-04 - val_loss: 4.8648e-05\n",
            "Epoch 95/100\n",
            "24/24 [==============================] - 0s 17ms/step - loss: 1.5466e-04 - val_loss: 4.6245e-05\n",
            "Epoch 96/100\n",
            "24/24 [==============================] - 0s 16ms/step - loss: 1.4794e-04 - val_loss: 4.8853e-05\n",
            "Epoch 97/100\n",
            "24/24 [==============================] - 0s 17ms/step - loss: 1.1760e-04 - val_loss: 4.1922e-05\n",
            "Epoch 98/100\n",
            "24/24 [==============================] - 0s 16ms/step - loss: 1.1800e-04 - val_loss: 4.6808e-05\n",
            "Epoch 99/100\n",
            "24/24 [==============================] - 0s 16ms/step - loss: 1.1663e-04 - val_loss: 4.8331e-05\n",
            "Epoch 100/100\n",
            "24/24 [==============================] - 0s 17ms/step - loss: 1.1171e-04 - val_loss: 4.2221e-05\n"
          ],
          "name": "stdout"
        },
        {
          "output_type": "execute_result",
          "data": {
            "text/plain": [
              "<tensorflow.python.keras.callbacks.History at 0x7f3d303efd10>"
            ]
          },
          "metadata": {
            "tags": []
          },
          "execution_count": 31
        }
      ]
    },
    {
      "cell_type": "code",
      "metadata": {
        "colab": {
          "base_uri": "https://localhost:8080/"
        },
        "id": "qvaOpvSnS0O4",
        "outputId": "a66b91f3-4d73-49b7-cc21-5679f0b981a9"
      },
      "source": [
        "X_train.max()"
      ],
      "execution_count": 32,
      "outputs": [
        {
          "output_type": "execute_result",
          "data": {
            "text/plain": [
              "0.9999999999999999"
            ]
          },
          "metadata": {
            "tags": []
          },
          "execution_count": 32
        }
      ]
    },
    {
      "cell_type": "code",
      "metadata": {
        "colab": {
          "base_uri": "https://localhost:8080/"
        },
        "id": "MhmHksQdXiWY",
        "outputId": "1f05c1ea-e525-4c21-cea0-1792b6fe9721"
      },
      "source": [
        "X_train.min()"
      ],
      "execution_count": 33,
      "outputs": [
        {
          "output_type": "execute_result",
          "data": {
            "text/plain": [
              "0.11590866825641143"
            ]
          },
          "metadata": {
            "tags": []
          },
          "execution_count": 33
        }
      ]
    },
    {
      "cell_type": "code",
      "metadata": {
        "colab": {
          "base_uri": "https://localhost:8080/"
        },
        "id": "o5StHIwpXkd5",
        "outputId": "fa190619-be65-480c-85e6-715508bde256"
      },
      "source": [
        "X_test.max()"
      ],
      "execution_count": 34,
      "outputs": [
        {
          "output_type": "execute_result",
          "data": {
            "text/plain": [
              "0.2369628768483641"
            ]
          },
          "metadata": {
            "tags": []
          },
          "execution_count": 34
        }
      ]
    },
    {
      "cell_type": "code",
      "metadata": {
        "colab": {
          "base_uri": "https://localhost:8080/"
        },
        "id": "Vn16INn4XoMu",
        "outputId": "31e7192b-c17a-4ec0-8d16-69fc7fb4de25"
      },
      "source": [
        "X_test.min()"
      ],
      "execution_count": 35,
      "outputs": [
        {
          "output_type": "execute_result",
          "data": {
            "text/plain": [
              "0.00023069346253064282"
            ]
          },
          "metadata": {
            "tags": []
          },
          "execution_count": 35
        }
      ]
    },
    {
      "cell_type": "code",
      "metadata": {
        "colab": {
          "base_uri": "https://localhost:8080/",
          "height": 282
        },
        "id": "TJnrB6g5XrWf",
        "outputId": "c79fa6d1-83ea-4525-f66c-10c5f7a832d2"
      },
      "source": [
        "import matplotlib.pyplot as plt\n",
        "plt.plot(df['Close'])"
      ],
      "execution_count": 36,
      "outputs": [
        {
          "output_type": "execute_result",
          "data": {
            "text/plain": [
              "[<matplotlib.lines.Line2D at 0x7f3ceed12190>]"
            ]
          },
          "metadata": {
            "tags": []
          },
          "execution_count": 36
        },
        {
          "output_type": "display_data",
          "data": {
            "image/png": "[encoded data removed]",
            "text/plain": [
              "<Figure size 432x288 with 1 Axes>"
            ]
          },
          "metadata": {
            "tags": [],
            "needs_background": "light"
          }
        }
      ]
    },
    {
      "cell_type": "code",
      "metadata": {
        "colab": {
          "base_uri": "https://localhost:8080/"
        },
        "id": "S5JoTZZFYNIM",
        "outputId": "06b88c40-b727-4232-dffa-d9ca3fa72413"
      },
      "source": [
        "X_test"
      ],
      "execution_count": 37,
      "outputs": [
        {
          "output_type": "execute_result",
          "data": {
            "text/plain": [
              "array([[[0.13549811],\n",
              "        [0.13439038],\n",
              "        [0.1412984 ],\n",
              "        ...,\n",
              "        [0.10832302],\n",
              "        [0.10897643],\n",
              "        [0.104792  ]],\n",
              "\n",
              "       [[0.13439038],\n",
              "        [0.1412984 ],\n",
              "        [0.14036184],\n",
              "        ...,\n",
              "        [0.10897643],\n",
              "        [0.104792  ],\n",
              "        [0.10442208]],\n",
              "\n",
              "       [[0.1412984 ],\n",
              "        [0.14036184],\n",
              "        [0.14129369],\n",
              "        ...,\n",
              "        [0.104792  ],\n",
              "        [0.10442208],\n",
              "        [0.10297605]],\n",
              "\n",
              "       ...,\n",
              "\n",
              "       [[0.02653311],\n",
              "        [0.02422719],\n",
              "        [0.0245443 ],\n",
              "        ...,\n",
              "        [0.00680747],\n",
              "        [0.00491451],\n",
              "        [0.0048523 ]],\n",
              "\n",
              "       [[0.02422719],\n",
              "        [0.0245443 ],\n",
              "        [0.0241041 ],\n",
              "        ...,\n",
              "        [0.00491451],\n",
              "        [0.0048523 ],\n",
              "        [0.00089352]],\n",
              "\n",
              "       [[0.0245443 ],\n",
              "        [0.0241041 ],\n",
              "        [0.02180591],\n",
              "        ...,\n",
              "        [0.0048523 ],\n",
              "        [0.00089352],\n",
              "        [0.00023069]]])"
            ]
          },
          "metadata": {
            "tags": []
          },
          "execution_count": 37
        }
      ]
    },
    {
      "cell_type": "code",
      "metadata": {
        "id": "3NgvfwXiaq3n"
      },
      "source": [
        "train_predict=model.predict(X_train)\n",
        "test_predict=model.predict(X_test)"
      ],
      "execution_count": 38,
      "outputs": []
    },
    {
      "cell_type": "code",
      "metadata": {
        "id": "l46omTkxcsq3"
      },
      "source": [
        "train_predict=scaler.inverse_transform(train_predict)\n",
        "test_predict=scaler.inverse_transform(test_predict)"
      ],
      "execution_count": 39,
      "outputs": []
    },
    {
      "cell_type": "code",
      "metadata": {
        "colab": {
          "base_uri": "https://localhost:8080/",
          "height": 265
        },
        "id": "ZKRKfH8hc2Pw",
        "outputId": "e82dee11-b224-4f35-9107-741b911725fc"
      },
      "source": [
        "look_back=100\n",
        "trainPredictPlot = np.empty_like(df['Close'])\n",
        "trainPredictPlot = trainPredictPlot.reshape([-1,1])\n",
        "trainPredictPlot[:, :] = np.nan\n",
        "trainPredictPlot[look_back:len(train_predict)+look_back, :] = train_predict\n",
        "\n",
        "testPredictPlot = np.empty_like(df['Close'])\n",
        "testPredictPlot = testPredictPlot.reshape([-1,1])\n",
        "testPredictPlot[:, :] = np.nan\n",
        "testPredictPlot[len(train_predict)+(look_back*2)+1:len(df['Close'])-1, :] = test_predict\n",
        "\n",
        "plt.plot(scaler.inverse_transform(np.array(df['Close']).reshape(-1,1)))\n",
        "plt.plot(trainPredictPlot)\n",
        "plt.plot(testPredictPlot)\n",
        "plt.show()"
      ],
      "execution_count": 50,
      "outputs": [
        {
          "output_type": "display_data",
          "data": {
            "image/png": "[encoded data removed]",
            "text/plain": [
              "<Figure size 432x288 with 1 Axes>"
            ]
          },
          "metadata": {
            "tags": [],
            "needs_background": "light"
          }
        }
      ]
    },
    {
      "cell_type": "code",
      "metadata": {
        "id": "PeD3_nPleK57"
      },
      "source": [
        "X = df['Close'][len(df['Close'])-100:len(df['Close'])]"
      ],
      "execution_count": 53,
      "outputs": []
    },
    {
      "cell_type": "code",
      "metadata": {
        "id": "hFcZTe8ZgZgd"
      },
      "source": [
        "X = np.array(X)"
      ],
      "execution_count": 57,
      "outputs": []
    },
    {
      "cell_type": "code",
      "metadata": {
        "colab": {
          "base_uri": "https://localhost:8080/"
        },
        "id": "ivcELAqCezgd",
        "outputId": "33ecc46d-afac-49ef-edad-30cfca4020c4"
      },
      "source": [
        "for i in range(30):\n",
        "  prediction = model.predict(X[i:100+i].reshape(1,100,1))\n",
        "  prediction = prediction.reshape([-1])\n",
        "  X = np.append(X,prediction)\n",
        "X.shape"
      ],
      "execution_count": 62,
      "outputs": [
        {
          "output_type": "execute_result",
          "data": {
            "text/plain": [
              "(131,)"
            ]
          },
          "metadata": {
            "tags": []
          },
          "execution_count": 62
        }
      ]
    },
    {
      "cell_type": "code",
      "metadata": {
        "colab": {
          "base_uri": "https://localhost:8080/"
        },
        "id": "mcAjUtbbf5xe",
        "outputId": "546bef74-cea4-40f7-f3d8-81ce76e2d805"
      },
      "source": [
        "X.shape"
      ],
      "execution_count": 63,
      "outputs": [
        {
          "output_type": "execute_result",
          "data": {
            "text/plain": [
              "(131,)"
            ]
          },
          "metadata": {
            "tags": []
          },
          "execution_count": 63
        }
      ]
    },
    {
      "cell_type": "code",
      "metadata": {
        "colab": {
          "base_uri": "https://localhost:8080/"
        },
        "id": "NyEl_AI8gy0m",
        "outputId": "28d452fe-b2e3-42ee-c5d3-86771c58e3c2"
      },
      "source": [
        "X[-31:]"
      ],
      "execution_count": 64,
      "outputs": [
        {
          "output_type": "execute_result",
          "data": {
            "text/plain": [
              "array([0.00642608, 0.00642608, 0.00592561, 0.00596168, 0.00634569,\n",
              "       0.00689063, 0.00747766, 0.00805151, 0.00859621, 0.00911364,\n",
              "       0.00961071, 0.0100937 , 0.01056682, 0.0110325 , 0.01149208,\n",
              "       0.01194633, 0.01239579, 0.01284089, 0.01328197, 0.01371929,\n",
              "       0.01415302, 0.01458327, 0.01501008, 0.01543346, 0.01585336,\n",
              "       0.01626976, 0.01668259, 0.01709182, 0.0174974 , 0.0178993 ,\n",
              "       0.01829751])"
            ]
          },
          "metadata": {
            "tags": []
          },
          "execution_count": 64
        }
      ]
    },
    {
      "cell_type": "code",
      "metadata": {
        "colab": {
          "base_uri": "https://localhost:8080/"
        },
        "id": "vinf-k0Kh1ki",
        "outputId": "55c8eda0-4506-40ee-ee9e-b96f974251d9"
      },
      "source": [
        "x1 = scaler.inverse_transform(np.array(df['Close']).reshape(-1,1))\n",
        "x1.shape"
      ],
      "execution_count": 65,
      "outputs": [
        {
          "output_type": "execute_result",
          "data": {
            "text/plain": [
              "(2518, 1)"
            ]
          },
          "metadata": {
            "tags": []
          },
          "execution_count": 65
        }
      ]
    },
    {
      "cell_type": "code",
      "metadata": {
        "id": "AcqQRfHniQgU"
      },
      "source": [
        "x1 = x1.reshape([-1])\n",
        "X_pred30 = scaler.inverse_transform(X.reshape(-1,1))\n",
        "X_pred30 = X_pred30.reshape([-1])"
      ],
      "execution_count": 69,
      "outputs": []
    },
    {
      "cell_type": "code",
      "metadata": {
        "colab": {
          "base_uri": "https://localhost:8080/",
          "height": 282
        },
        "id": "Q6Vgdtz4iCZ1",
        "outputId": "3d1972bb-4acc-4299-e447-d71195c3a824"
      },
      "source": [
        "pred_30 = np.concatenate((x1, X_pred30), axis=0)\n",
        "plt.plot(pred_30)"
      ],
      "execution_count": 71,
      "outputs": [
        {
          "output_type": "execute_result",
          "data": {
            "text/plain": [
              "[<matplotlib.lines.Line2D at 0x7f3cb77ab050>]"
            ]
          },
          "metadata": {
            "tags": []
          },
          "execution_count": 71
        },
        {
          "output_type": "display_data",
          "data": {
            "image/png": "[encoded data removed]",
            "text/plain": [
              "<Figure size 432x288 with 1 Axes>"
            ]
          },
          "metadata": {
            "tags": [],
            "needs_background": "light"
          }
        }
      ]
    },
    {
      "cell_type": "code",
      "metadata": {
        "id": "cDFsiVKLjAvK"
      },
      "source": [
        ""
      ],
      "execution_count": null,
      "outputs": []
    }
  ]
}